{
 "cells": [
  {
   "cell_type": "code",
   "execution_count": null,
   "id": "6d239b3d",
   "metadata": {},
   "outputs": [],
   "source": [
    "import pandas as pd\n",
    "import re\n",
    "import requests\n",
    "from bs4 import BeautifulSoup\n",
    "\n",
    "url = \"https://www.meteojob.com/jobs?what=Data&where=Lyon\"\n",
    "response = requests.get(url)\n",
    "if response.status_code == 200:\n",
    "    htmlData = response.content\n",
    "    soup = BeautifulSoup(htmlData, 'html.parser')\n",
    "\n",
    "    job_listings = soup.find_all('div', class_='truncated-text-fix')\n",
    "    jobs_data = []\n",
    "    for job in job_listings:\n",
    "        #metadataitems = job_listings('span', class=\"mr-1 mb-0 ng-star-inserted\")\n",
    "        title = job.find('h2').text.strip() if job.find('h2') else ''\n",
    "        company = job.find(class_=\"d-inline-block mt-1 mb-0 ng-star-inserted\").text.strip() if job.find(class_=\"d-inline-block mt-1 mb-0 ng-star-inserted\") else ''\n",
    "        types = job.find(class_=\"mr-1 mb-0 ng-star-inserted\").text.strip() if job.find(class_=\"mr-1 mb-0 ng-star-inserted\") else ''\n",
    "        date = job.find(class_=\"cc-font-size-small\").text.strip() if job.find(class_=\"cc-font-size-small\") else ''\n",
    "        salary = job.find(class_=\"cc-tag-primary-light\").text.strip() if job.find(class_=\"cc-tag-primary-light\") else ''\n",
    "\n",
    "        jobs_data.append({\"Titre\": title,\"Company\": company,\"Type_de_contrat\": types,\"date_de_publication\":date,\"salaire\" :salary})\n",
    "        df_jobs = pd.DataFrame(jobs_data)\n",
    "        df_jobs = df_jobs.iloc[::2]\n",
    "       \n",
    "\n",
    "\n",
    "\n",
    "    display(df_jobs)"
   ]
  }
 ],
 "metadata": {
  "kernelspec": {
   "display_name": "Python 3 (ipykernel)",
   "language": "python",
   "name": "python3"
  },
  "language_info": {
   "codemirror_mode": {
    "name": "ipython",
    "version": 3
   },
   "file_extension": ".py",
   "mimetype": "text/x-python",
   "name": "python",
   "nbconvert_exporter": "python",
   "pygments_lexer": "ipython3",
   "version": "3.10.6"
  },
  "toc": {
   "base_numbering": 1,
   "nav_menu": {},
   "number_sections": true,
   "sideBar": true,
   "skip_h1_title": false,
   "title_cell": "Table of Contents",
   "title_sidebar": "Contents",
   "toc_cell": false,
   "toc_position": {},
   "toc_section_display": true,
   "toc_window_display": false
  }
 },
 "nbformat": 4,
 "nbformat_minor": 5
}
